{
  "nbformat": 4,
  "nbformat_minor": 0,
  "metadata": {
    "colab": {
      "provenance": []
    },
    "kernelspec": {
      "name": "python3",
      "display_name": "Python 3"
    },
    "language_info": {
      "name": "python"
    }
  },
  "cells": [
    {
      "cell_type": "markdown",
      "source": [
        "#**Introduction**\n",
        "\n",
        "This project is about **Cyber Abuse Detection** in Urdu text. The main goal is to build a machine learning model that can automatically detect abusive comments written in Urdu.\n",
        "\n",
        "Social media platforms contain a lot of negative and offensive comments. Detecting these comments is important to create a safer online environment. Since most existing research focuses on English, this project uses Urdu data, which makes it unique and useful for our local context.\n",
        "\n",
        "##**Steps I will follow in this notebook:**\n",
        "\n",
        "**1. Load Dataset** → Import my collected Urdu comments dataset.\n",
        "\n",
        "**2. Data Cleaning** → Handle missing values, remove duplicates, and drop useless columns.\n",
        "\n",
        "**3. Preprocessing** → Normalize Urdu text, remove stopwords, and clean punctuation/symbols.\n",
        "\n",
        "**4. Feature Extraction** → Convert text into numeric features using TF-IDF / N-grams.\n",
        "\n",
        "**5. Model Training** → Train multiple machine learning models (Naive Bayes, Logistic Regression, Random Forest, etc.).\n",
        "\n",
        "**6. Evaluation** → Compare models using accuracy, precision, recall, F1-score, and confusion matrices.\n",
        "\n",
        "**7. Best Model Selection** → Choose the model that works best.\n"
      ],
      "metadata": {
        "id": "YIj8oPCvSz4Z"
      }
    },
    {
      "cell_type": "markdown",
      "source": [
        "###**1. Load Dataset**\n",
        "  In this step, I will load my Urdu comments dataset using pandas.\n",
        "Then I will display the first few rows and check the shape of the dataset to know how many rows and columns it has."
      ],
      "metadata": {
        "id": "8CCbwsxgUeu_"
      }
    },
    {
      "cell_type": "code",
      "execution_count": null,
      "metadata": {
        "id": "PPU9dt8KSpEd"
      },
      "outputs": [],
      "source": [
        "import pandas as pd\n",
        "\n",
        "file_path = \"/content/urdu_abusive_dataset.xlsx\"\n",
        "\n",
        "df = pd.read_excel(file_path)\n"
      ]
    },
    {
      "cell_type": "code",
      "source": [
        "print(\"First 5 rows:\")\n",
        "print(df.head())"
      ],
      "metadata": {
        "colab": {
          "base_uri": "https://localhost:8080/"
        },
        "id": "w4kYRW_cV8iL",
        "outputId": "60545b77-e278-4d3b-a289-d468724f2140"
      },
      "execution_count": null,
      "outputs": [
        {
          "output_type": "stream",
          "name": "stdout",
          "text": [
            "First 5 rows:\n",
            "   Unnamed: 0                                           comments  target\n",
            "0           0  کھوتے پتر کہتا تھا ملک بھر میں فئیر الیکشن کرو...     1.0\n",
            "1           1  تھو صحافتی دلال حامد میر جعفر بالکل منہ جھوٹا ...     1.0\n",
            "2           3  الطاف کتے ناجائز بچے الطاف دہشت قاتلوں ذریعے ل...     1.0\n",
            "3           4  کھوتی بچے تجھے باتیں بتاتا علاج کرواو اپنا دوس...     1.0\n",
            "4           5  جتنی ایم ایل این ساتھ پنجاب اسمبلی میں اگر کسی...     1.0\n"
          ]
        }
      ]
    },
    {
      "cell_type": "code",
      "source": [
        "print(\"\\nShape of dataset:\", df.shape)"
      ],
      "metadata": {
        "colab": {
          "base_uri": "https://localhost:8080/"
        },
        "id": "opFuEUIhWW8U",
        "outputId": "d1b0421a-0909-4fad-a0dc-b7ac2fabc8c6"
      },
      "execution_count": null,
      "outputs": [
        {
          "output_type": "stream",
          "name": "stdout",
          "text": [
            "\n",
            "Shape of dataset: (12083, 3)\n"
          ]
        }
      ]
    },
    {
      "cell_type": "code",
      "source": [
        "print(\"\\nColumn names:\", df.columns.tolist())"
      ],
      "metadata": {
        "colab": {
          "base_uri": "https://localhost:8080/"
        },
        "id": "Ezc5CEvGWW4t",
        "outputId": "99791b12-d3bf-4087-85e1-a8d2847ba971"
      },
      "execution_count": null,
      "outputs": [
        {
          "output_type": "stream",
          "name": "stdout",
          "text": [
            "\n",
            "Column names: ['Unnamed: 0', 'comments', 'target']\n"
          ]
        }
      ]
    },
    {
      "cell_type": "markdown",
      "source": [
        "###**2. Data Cleaning**\n",
        "\n",
        "Handle missing values, remove duplicates, and drop useless columns."
      ],
      "metadata": {
        "id": "aBkEhGlwJXXl"
      }
    },
    {
      "cell_type": "code",
      "source": [
        "print(\"\\nMissing values per column:\")\n",
        "print(df.isnull().sum())"
      ],
      "metadata": {
        "colab": {
          "base_uri": "https://localhost:8080/"
        },
        "id": "qzhxV-mJWW2O",
        "outputId": "46ef6464-7762-4f5e-da81-e68b3aa2bbea"
      },
      "execution_count": null,
      "outputs": [
        {
          "output_type": "stream",
          "name": "stdout",
          "text": [
            "\n",
            "Missing values per column:\n",
            "Unnamed: 0    0\n",
            "comments      0\n",
            "target        1\n",
            "dtype: int64\n"
          ]
        }
      ]
    },
    {
      "cell_type": "code",
      "source": [
        "print(\"\\nNumber of duplicate rows:\", df.duplicated().sum())"
      ],
      "metadata": {
        "colab": {
          "base_uri": "https://localhost:8080/"
        },
        "id": "y-lTPGqEWWzg",
        "outputId": "6935fb74-5fa0-4845-86bc-9c7ddf328ec3"
      },
      "execution_count": null,
      "outputs": [
        {
          "output_type": "stream",
          "name": "stdout",
          "text": [
            "\n",
            "Number of duplicate rows: 0\n"
          ]
        }
      ]
    },
    {
      "cell_type": "markdown",
      "source": [
        "**Cleaning Dataset Structure**\n",
        "\n",
        "Two issues were found in the dataset:\n",
        "\n",
        "1. One missing value in the target column.\n",
        "\n",
        "2. An extra column Unnamed: 0 which is only a serial index and not required.\n",
        "\n",
        "To clean the dataset, I will:\n",
        "\n",
        "*  Drop the row with the missing target value.\n",
        "\n",
        "*  Remove the unnecessary index column."
      ],
      "metadata": {
        "id": "6jUGnczPXKus"
      }
    },
    {
      "cell_type": "code",
      "source": [
        "df = df.dropna(subset=[\"target\"])\n",
        "\n",
        "df = df.drop(columns=[\"Unnamed: 0\"])\n",
        "\n",
        "print(\"✅ Cleaned dataset shape:\", df.shape)\n",
        "print(df.head())"
      ],
      "metadata": {
        "colab": {
          "base_uri": "https://localhost:8080/"
        },
        "id": "3LS9RZ5PWWxM",
        "outputId": "f80bdf2a-4d40-48d8-d86a-e74447e5bafd"
      },
      "execution_count": null,
      "outputs": [
        {
          "output_type": "stream",
          "name": "stdout",
          "text": [
            "✅ Cleaned dataset shape: (12082, 2)\n",
            "                                            comments  target\n",
            "0  کھوتے پتر کہتا تھا ملک بھر میں فئیر الیکشن کرو...     1.0\n",
            "1  تھو صحافتی دلال حامد میر جعفر بالکل منہ جھوٹا ...     1.0\n",
            "2  الطاف کتے ناجائز بچے الطاف دہشت قاتلوں ذریعے ل...     1.0\n",
            "3  کھوتی بچے تجھے باتیں بتاتا علاج کرواو اپنا دوس...     1.0\n",
            "4  جتنی ایم ایل این ساتھ پنجاب اسمبلی میں اگر کسی...     1.0\n"
          ]
        }
      ]
    },
    {
      "cell_type": "markdown",
      "source": [
        "###**3. Data Pre-Processing**\n",
        "\n",
        "Normalize Urdu text, remove stopwords, and clean punctuation/symbols."
      ],
      "metadata": {
        "id": "AOQ3oWn3a0PH"
      }
    },
    {
      "cell_type": "markdown",
      "source": [
        "**Text Normalization in Urdu**\n",
        "\n",
        "1. Why needed?\n",
        "\n",
        "    Urdu datasets often contain Arabic variants of the same letter (e.g., \"ي\" vs \"ی\", \"ك\" vs \"ک\").\n",
        "\n",
        "    Emojis, numbers, English words, and punctuation add noise.\n",
        "\n",
        "    Cleaning ensures consistency and helps ML models learn better patterns.\n",
        "\n",
        "2. What we’ll do?\n",
        "\n",
        "    Replace Arabic characters with standard Urdu equivalents:\n",
        "\n",
        "    \"ي\" → \"ی\"\n",
        "\n",
        "    \"ك\" → \"ک\"\n",
        "\n",
        "Remove:\n",
        "\n",
        "*  Punctuation (!?.,…)\n",
        "\n",
        "*  Digits (123۴۵۶)\n",
        "\n",
        "*  Emojis (😊😂🔥)\n",
        "\n",
        "*   Extra spaces"
      ],
      "metadata": {
        "id": "S8n117BeKU3K"
      }
    },
    {
      "cell_type": "code",
      "source": [
        "import re\n",
        "import unicodedata\n",
        "\n",
        "def normalize_urdu(text):\n",
        "    if pd.isna(text):\n",
        "        return \"\"\n",
        "\n",
        "    # Step 1: Normalize Unicode (removes hidden chars)\n",
        "    text = unicodedata.normalize(\"NFKC\", text)\n",
        "\n",
        "    # Step 2: Replace Arabic-style chars with Urdu equivalents\n",
        "    replacements = {\n",
        "        \"ي\": \"ی\", \"ئ\": \"ی\", \"ك\": \"ک\", \"ۀ\": \"ہ\",\n",
        "        \"ة\": \"ہ\", \"ؤ\": \"و\", \"إ\": \"ا\", \"أ\": \"ا\", \"آ\": \"ا\"\n",
        "    }\n",
        "    for arabic, urdu in replacements.items():\n",
        "        text = text.replace(arabic, urdu)\n",
        "\n",
        "    # Step 3: Remove punctuation, numbers (both Urdu+English), symbols, emojis\n",
        "    text = re.sub(r\"[^\\u0600-\\u06FF\\s]\", \" \", text)\n",
        "\n",
        "    # Step 4: Reduce exaggerated repeated characters (3+ same → 2)\n",
        "    text = re.sub(r\"(.)\\1{2,}\", r\"\\1\\1\", text)\n",
        "\n",
        "    # Step 5: Remove extra whitespace\n",
        "    text = re.sub(r\"\\s+\", \" \", text).strip()\n",
        "\n",
        "    return text\n",
        "\n",
        "# Apply\n",
        "df[\"normalized\"] = df[\"comments\"].apply(normalize_urdu)\n",
        "\n",
        "# Preview\n",
        "print(df[[\"comments\", \"normalized\"]].head(10))\n"
      ],
      "metadata": {
        "id": "I--15P7CX2K0",
        "colab": {
          "base_uri": "https://localhost:8080/"
        },
        "outputId": "cb088160-918e-4d3b-9334-a32a688f6e18"
      },
      "execution_count": null,
      "outputs": [
        {
          "output_type": "stream",
          "name": "stdout",
          "text": [
            "                                            comments  \\\n",
            "0  کھوتے پتر کہتا تھا ملک بھر میں فئیر الیکشن کرو...   \n",
            "1  تھو صحافتی دلال حامد میر جعفر بالکل منہ جھوٹا ...   \n",
            "2  الطاف کتے ناجائز بچے الطاف دہشت قاتلوں ذریعے ل...   \n",
            "3  کھوتی بچے تجھے باتیں بتاتا علاج کرواو اپنا دوس...   \n",
            "4  جتنی ایم ایل این ساتھ پنجاب اسمبلی میں اگر کسی...   \n",
            "5      کتے بچے کسی خاص مقصد بیانیہ بنا سارے کنجر کہہ   \n",
            "6  جتنی ایم ایل این ساتھ پنجاب اسمبلی میں اگر کسی...   \n",
            "7  ماں وزیر دفاع جائیں پتا کیا رہا کتے بچے طرح بھ...   \n",
            "8  بسنتی ایم کتوں سامنے ناچے گھنگھرو توڑ بچی ایسے...   \n",
            "9          تیرا پیدائشی مسئلہ پیدا بغیرت تھا کتے بچے   \n",
            "\n",
            "                                          normalized  \n",
            "0  کھوتے پتر کہتا تھا ملک بھر میں فییر الیکشن کرو...  \n",
            "1  تھو صحافتی دلال حامد میر جعفر بالکل منہ جھوٹا ...  \n",
            "2  الطاف کتے ناجایز بچے الطاف دہشت قاتلوں ذریعے ل...  \n",
            "3  کھوتی بچے تجھے باتیں بتاتا علاج کرواو اپنا دوس...  \n",
            "4  جتنی ایم ایل این ساتھ پنجاب اسمبلی میں اگر کسی...  \n",
            "5      کتے بچے کسی خاص مقصد بیانیہ بنا سارے کنجر کہہ  \n",
            "6  جتنی ایم ایل این ساتھ پنجاب اسمبلی میں اگر کسی...  \n",
            "7  ماں وزیر دفاع جاییں پتا کیا رہا کتے بچے طرح بھ...  \n",
            "8  بسنتی ایم کتوں سامنے ناچے گھنگھرو توڑ بچی ایسے...  \n",
            "9          تیرا پیدایشی مسیلہ پیدا بغیرت تھا کتے بچے  \n"
          ]
        }
      ]
    },
    {
      "cell_type": "markdown",
      "source": [
        "**Stopword Removal**\n",
        "\n",
        "1. Create a list of Urdu stopwords (a dictionary of useless words).\n",
        "\n",
        "2. Split each comment into words.\n",
        "\n",
        "3. Remove words that are in the stopword list.\n",
        "\n",
        "4. Rejoin the cleaned words into a new processed comment."
      ],
      "metadata": {
        "id": "tqjLTvaMtB_G"
      }
    },
    {
      "cell_type": "code",
      "source": [
        "# ------------------------------\n",
        "# Step 1: Create Urdu Stopword List\n",
        "# ------------------------------\n",
        "urdu_stopwords = [\n",
        "    \"ہے\", \"ہیں\", \"ہوں\", \"تھا\", \"تھی\", \"تھے\",\n",
        "    \"میں\", \"ہم\", \"آپ\", \"وہ\", \"یہ\", \"وہی\",\n",
        "    \"کو\", \"کی\", \"کے\", \"کا\", \"نے\", \"سے\", \"پر\",\n",
        "    \"اور\", \"لیکن\", \"اگر\", \"کہ\", \"کیا\",\n",
        "    \"تک\", \"بھی\", \"ہی\", \"تو\", \"اب\", \"یا\",\n",
        "    \"ہر\", \"ایک\", \"جن\", \"جیسا\", \"جیسی\"\n",
        "]\n",
        "\n",
        "# ------------------------------\n",
        "# Step 2: Function to Remove Stopwords\n",
        "# ------------------------------\n",
        "def remove_stopwords(text):\n",
        "    if pd.isna(text):\n",
        "        return \"\"\n",
        "    words = text.split()  # split into list\n",
        "    filtered = [w for w in words if w not in urdu_stopwords]  # remove stopwords\n",
        "    return \" \".join(filtered)  # rejoin back\n",
        "\n",
        "# ------------------------------\n",
        "# Step 3: Apply to normalized column\n",
        "# ------------------------------\n",
        "df[\"no_stopwords\"] = df[\"normalized\"].apply(remove_stopwords)\n",
        "\n",
        "# ------------------------------\n",
        "# Step 4: Preview results\n",
        "# ------------------------------\n",
        "print(\"Before Stopword Removal:\\n\", df[\"normalized\"].head(5))\n",
        "print(\"\\nAfter Stopword Removal:\\n\", df[\"no_stopwords\"].head(5))\n"
      ],
      "metadata": {
        "colab": {
          "base_uri": "https://localhost:8080/"
        },
        "id": "xG6622oUtS6f",
        "outputId": "ce245606-f924-45c2-830e-cc0159919db0"
      },
      "execution_count": null,
      "outputs": [
        {
          "output_type": "stream",
          "name": "stdout",
          "text": [
            "Before Stopword Removal:\n",
            " 0    کھوتے پتر کہتا تھا ملک بھر میں فییر الیکشن کرو...\n",
            "1    تھو صحافتی دلال حامد میر جعفر بالکل منہ جھوٹا ...\n",
            "2    الطاف کتے ناجایز بچے الطاف دہشت قاتلوں ذریعے ل...\n",
            "3    کھوتی بچے تجھے باتیں بتاتا علاج کرواو اپنا دوس...\n",
            "4    جتنی ایم ایل این ساتھ پنجاب اسمبلی میں اگر کسی...\n",
            "Name: normalized, dtype: object\n",
            "\n",
            "After Stopword Removal:\n",
            " 0    کھوتے پتر کہتا ملک بھر فییر الیکشن کرواوں چند ...\n",
            "1    تھو صحافتی دلال حامد میر جعفر بالکل منہ جھوٹا ...\n",
            "2    الطاف کتے ناجایز بچے الطاف دہشت قاتلوں ذریعے ل...\n",
            "3    کھوتی بچے تجھے باتیں بتاتا علاج کرواو اپنا دوس...\n",
            "4    جتنی ایم ایل این ساتھ پنجاب اسمبلی کسی کتے سات...\n",
            "Name: no_stopwords, dtype: object\n"
          ]
        }
      ]
    },
    {
      "cell_type": "code",
      "source": [
        "df.head()"
      ],
      "metadata": {
        "colab": {
          "base_uri": "https://localhost:8080/",
          "height": 206
        },
        "id": "yYpOYKKvtcZ4",
        "outputId": "a424641b-827a-4ad3-83be-3dc6aee0dda6"
      },
      "execution_count": null,
      "outputs": [
        {
          "output_type": "execute_result",
          "data": {
            "text/plain": [
              "                                            comments  target  \\\n",
              "0  کھوتے پتر کہتا تھا ملک بھر میں فئیر الیکشن کرو...     1.0   \n",
              "1  تھو صحافتی دلال حامد میر جعفر بالکل منہ جھوٹا ...     1.0   \n",
              "2  الطاف کتے ناجائز بچے الطاف دہشت قاتلوں ذریعے ل...     1.0   \n",
              "3  کھوتی بچے تجھے باتیں بتاتا علاج کرواو اپنا دوس...     1.0   \n",
              "4  جتنی ایم ایل این ساتھ پنجاب اسمبلی میں اگر کسی...     1.0   \n",
              "\n",
              "                                          normalized  \\\n",
              "0  کھوتے پتر کہتا تھا ملک بھر میں فییر الیکشن کرو...   \n",
              "1  تھو صحافتی دلال حامد میر جعفر بالکل منہ جھوٹا ...   \n",
              "2  الطاف کتے ناجایز بچے الطاف دہشت قاتلوں ذریعے ل...   \n",
              "3  کھوتی بچے تجھے باتیں بتاتا علاج کرواو اپنا دوس...   \n",
              "4  جتنی ایم ایل این ساتھ پنجاب اسمبلی میں اگر کسی...   \n",
              "\n",
              "                                        no_stopwords  \n",
              "0  کھوتے پتر کہتا ملک بھر فییر الیکشن کرواوں چند ...  \n",
              "1  تھو صحافتی دلال حامد میر جعفر بالکل منہ جھوٹا ...  \n",
              "2  الطاف کتے ناجایز بچے الطاف دہشت قاتلوں ذریعے ل...  \n",
              "3  کھوتی بچے تجھے باتیں بتاتا علاج کرواو اپنا دوس...  \n",
              "4  جتنی ایم ایل این ساتھ پنجاب اسمبلی کسی کتے سات...  "
            ],
            "text/html": [
              "\n",
              "  <div id=\"df-b9a5a94a-4606-4ec5-9c9d-0973fcb1031a\" class=\"colab-df-container\">\n",
              "    <div>\n",
              "<style scoped>\n",
              "    .dataframe tbody tr th:only-of-type {\n",
              "        vertical-align: middle;\n",
              "    }\n",
              "\n",
              "    .dataframe tbody tr th {\n",
              "        vertical-align: top;\n",
              "    }\n",
              "\n",
              "    .dataframe thead th {\n",
              "        text-align: right;\n",
              "    }\n",
              "</style>\n",
              "<table border=\"1\" class=\"dataframe\">\n",
              "  <thead>\n",
              "    <tr style=\"text-align: right;\">\n",
              "      <th></th>\n",
              "      <th>comments</th>\n",
              "      <th>target</th>\n",
              "      <th>normalized</th>\n",
              "      <th>no_stopwords</th>\n",
              "    </tr>\n",
              "  </thead>\n",
              "  <tbody>\n",
              "    <tr>\n",
              "      <th>0</th>\n",
              "      <td>کھوتے پتر کہتا تھا ملک بھر میں فئیر الیکشن کرو...</td>\n",
              "      <td>1.0</td>\n",
              "      <td>کھوتے پتر کہتا تھا ملک بھر میں فییر الیکشن کرو...</td>\n",
              "      <td>کھوتے پتر کہتا ملک بھر فییر الیکشن کرواوں چند ...</td>\n",
              "    </tr>\n",
              "    <tr>\n",
              "      <th>1</th>\n",
              "      <td>تھو صحافتی دلال حامد میر جعفر بالکل منہ جھوٹا ...</td>\n",
              "      <td>1.0</td>\n",
              "      <td>تھو صحافتی دلال حامد میر جعفر بالکل منہ جھوٹا ...</td>\n",
              "      <td>تھو صحافتی دلال حامد میر جعفر بالکل منہ جھوٹا ...</td>\n",
              "    </tr>\n",
              "    <tr>\n",
              "      <th>2</th>\n",
              "      <td>الطاف کتے ناجائز بچے الطاف دہشت قاتلوں ذریعے ل...</td>\n",
              "      <td>1.0</td>\n",
              "      <td>الطاف کتے ناجایز بچے الطاف دہشت قاتلوں ذریعے ل...</td>\n",
              "      <td>الطاف کتے ناجایز بچے الطاف دہشت قاتلوں ذریعے ل...</td>\n",
              "    </tr>\n",
              "    <tr>\n",
              "      <th>3</th>\n",
              "      <td>کھوتی بچے تجھے باتیں بتاتا علاج کرواو اپنا دوس...</td>\n",
              "      <td>1.0</td>\n",
              "      <td>کھوتی بچے تجھے باتیں بتاتا علاج کرواو اپنا دوس...</td>\n",
              "      <td>کھوتی بچے تجھے باتیں بتاتا علاج کرواو اپنا دوس...</td>\n",
              "    </tr>\n",
              "    <tr>\n",
              "      <th>4</th>\n",
              "      <td>جتنی ایم ایل این ساتھ پنجاب اسمبلی میں اگر کسی...</td>\n",
              "      <td>1.0</td>\n",
              "      <td>جتنی ایم ایل این ساتھ پنجاب اسمبلی میں اگر کسی...</td>\n",
              "      <td>جتنی ایم ایل این ساتھ پنجاب اسمبلی کسی کتے سات...</td>\n",
              "    </tr>\n",
              "  </tbody>\n",
              "</table>\n",
              "</div>\n",
              "    <div class=\"colab-df-buttons\">\n",
              "\n",
              "  <div class=\"colab-df-container\">\n",
              "    <button class=\"colab-df-convert\" onclick=\"convertToInteractive('df-b9a5a94a-4606-4ec5-9c9d-0973fcb1031a')\"\n",
              "            title=\"Convert this dataframe to an interactive table.\"\n",
              "            style=\"display:none;\">\n",
              "\n",
              "  <svg xmlns=\"http://www.w3.org/2000/svg\" height=\"24px\" viewBox=\"0 -960 960 960\">\n",
              "    <path d=\"M120-120v-720h720v720H120Zm60-500h600v-160H180v160Zm220 220h160v-160H400v160Zm0 220h160v-160H400v160ZM180-400h160v-160H180v160Zm440 0h160v-160H620v160ZM180-180h160v-160H180v160Zm440 0h160v-160H620v160Z\"/>\n",
              "  </svg>\n",
              "    </button>\n",
              "\n",
              "  <style>\n",
              "    .colab-df-container {\n",
              "      display:flex;\n",
              "      gap: 12px;\n",
              "    }\n",
              "\n",
              "    .colab-df-convert {\n",
              "      background-color: #E8F0FE;\n",
              "      border: none;\n",
              "      border-radius: 50%;\n",
              "      cursor: pointer;\n",
              "      display: none;\n",
              "      fill: #1967D2;\n",
              "      height: 32px;\n",
              "      padding: 0 0 0 0;\n",
              "      width: 32px;\n",
              "    }\n",
              "\n",
              "    .colab-df-convert:hover {\n",
              "      background-color: #E2EBFA;\n",
              "      box-shadow: 0px 1px 2px rgba(60, 64, 67, 0.3), 0px 1px 3px 1px rgba(60, 64, 67, 0.15);\n",
              "      fill: #174EA6;\n",
              "    }\n",
              "\n",
              "    .colab-df-buttons div {\n",
              "      margin-bottom: 4px;\n",
              "    }\n",
              "\n",
              "    [theme=dark] .colab-df-convert {\n",
              "      background-color: #3B4455;\n",
              "      fill: #D2E3FC;\n",
              "    }\n",
              "\n",
              "    [theme=dark] .colab-df-convert:hover {\n",
              "      background-color: #434B5C;\n",
              "      box-shadow: 0px 1px 3px 1px rgba(0, 0, 0, 0.15);\n",
              "      filter: drop-shadow(0px 1px 2px rgba(0, 0, 0, 0.3));\n",
              "      fill: #FFFFFF;\n",
              "    }\n",
              "  </style>\n",
              "\n",
              "    <script>\n",
              "      const buttonEl =\n",
              "        document.querySelector('#df-b9a5a94a-4606-4ec5-9c9d-0973fcb1031a button.colab-df-convert');\n",
              "      buttonEl.style.display =\n",
              "        google.colab.kernel.accessAllowed ? 'block' : 'none';\n",
              "\n",
              "      async function convertToInteractive(key) {\n",
              "        const element = document.querySelector('#df-b9a5a94a-4606-4ec5-9c9d-0973fcb1031a');\n",
              "        const dataTable =\n",
              "          await google.colab.kernel.invokeFunction('convertToInteractive',\n",
              "                                                    [key], {});\n",
              "        if (!dataTable) return;\n",
              "\n",
              "        const docLinkHtml = 'Like what you see? Visit the ' +\n",
              "          '<a target=\"_blank\" href=https://colab.research.google.com/notebooks/data_table.ipynb>data table notebook</a>'\n",
              "          + ' to learn more about interactive tables.';\n",
              "        element.innerHTML = '';\n",
              "        dataTable['output_type'] = 'display_data';\n",
              "        await google.colab.output.renderOutput(dataTable, element);\n",
              "        const docLink = document.createElement('div');\n",
              "        docLink.innerHTML = docLinkHtml;\n",
              "        element.appendChild(docLink);\n",
              "      }\n",
              "    </script>\n",
              "  </div>\n",
              "\n",
              "\n",
              "    <div id=\"df-8ba1a68f-27f1-4a08-9b90-941f1b23baec\">\n",
              "      <button class=\"colab-df-quickchart\" onclick=\"quickchart('df-8ba1a68f-27f1-4a08-9b90-941f1b23baec')\"\n",
              "                title=\"Suggest charts\"\n",
              "                style=\"display:none;\">\n",
              "\n",
              "<svg xmlns=\"http://www.w3.org/2000/svg\" height=\"24px\"viewBox=\"0 0 24 24\"\n",
              "     width=\"24px\">\n",
              "    <g>\n",
              "        <path d=\"M19 3H5c-1.1 0-2 .9-2 2v14c0 1.1.9 2 2 2h14c1.1 0 2-.9 2-2V5c0-1.1-.9-2-2-2zM9 17H7v-7h2v7zm4 0h-2V7h2v10zm4 0h-2v-4h2v4z\"/>\n",
              "    </g>\n",
              "</svg>\n",
              "      </button>\n",
              "\n",
              "<style>\n",
              "  .colab-df-quickchart {\n",
              "      --bg-color: #E8F0FE;\n",
              "      --fill-color: #1967D2;\n",
              "      --hover-bg-color: #E2EBFA;\n",
              "      --hover-fill-color: #174EA6;\n",
              "      --disabled-fill-color: #AAA;\n",
              "      --disabled-bg-color: #DDD;\n",
              "  }\n",
              "\n",
              "  [theme=dark] .colab-df-quickchart {\n",
              "      --bg-color: #3B4455;\n",
              "      --fill-color: #D2E3FC;\n",
              "      --hover-bg-color: #434B5C;\n",
              "      --hover-fill-color: #FFFFFF;\n",
              "      --disabled-bg-color: #3B4455;\n",
              "      --disabled-fill-color: #666;\n",
              "  }\n",
              "\n",
              "  .colab-df-quickchart {\n",
              "    background-color: var(--bg-color);\n",
              "    border: none;\n",
              "    border-radius: 50%;\n",
              "    cursor: pointer;\n",
              "    display: none;\n",
              "    fill: var(--fill-color);\n",
              "    height: 32px;\n",
              "    padding: 0;\n",
              "    width: 32px;\n",
              "  }\n",
              "\n",
              "  .colab-df-quickchart:hover {\n",
              "    background-color: var(--hover-bg-color);\n",
              "    box-shadow: 0 1px 2px rgba(60, 64, 67, 0.3), 0 1px 3px 1px rgba(60, 64, 67, 0.15);\n",
              "    fill: var(--button-hover-fill-color);\n",
              "  }\n",
              "\n",
              "  .colab-df-quickchart-complete:disabled,\n",
              "  .colab-df-quickchart-complete:disabled:hover {\n",
              "    background-color: var(--disabled-bg-color);\n",
              "    fill: var(--disabled-fill-color);\n",
              "    box-shadow: none;\n",
              "  }\n",
              "\n",
              "  .colab-df-spinner {\n",
              "    border: 2px solid var(--fill-color);\n",
              "    border-color: transparent;\n",
              "    border-bottom-color: var(--fill-color);\n",
              "    animation:\n",
              "      spin 1s steps(1) infinite;\n",
              "  }\n",
              "\n",
              "  @keyframes spin {\n",
              "    0% {\n",
              "      border-color: transparent;\n",
              "      border-bottom-color: var(--fill-color);\n",
              "      border-left-color: var(--fill-color);\n",
              "    }\n",
              "    20% {\n",
              "      border-color: transparent;\n",
              "      border-left-color: var(--fill-color);\n",
              "      border-top-color: var(--fill-color);\n",
              "    }\n",
              "    30% {\n",
              "      border-color: transparent;\n",
              "      border-left-color: var(--fill-color);\n",
              "      border-top-color: var(--fill-color);\n",
              "      border-right-color: var(--fill-color);\n",
              "    }\n",
              "    40% {\n",
              "      border-color: transparent;\n",
              "      border-right-color: var(--fill-color);\n",
              "      border-top-color: var(--fill-color);\n",
              "    }\n",
              "    60% {\n",
              "      border-color: transparent;\n",
              "      border-right-color: var(--fill-color);\n",
              "    }\n",
              "    80% {\n",
              "      border-color: transparent;\n",
              "      border-right-color: var(--fill-color);\n",
              "      border-bottom-color: var(--fill-color);\n",
              "    }\n",
              "    90% {\n",
              "      border-color: transparent;\n",
              "      border-bottom-color: var(--fill-color);\n",
              "    }\n",
              "  }\n",
              "</style>\n",
              "\n",
              "      <script>\n",
              "        async function quickchart(key) {\n",
              "          const quickchartButtonEl =\n",
              "            document.querySelector('#' + key + ' button');\n",
              "          quickchartButtonEl.disabled = true;  // To prevent multiple clicks.\n",
              "          quickchartButtonEl.classList.add('colab-df-spinner');\n",
              "          try {\n",
              "            const charts = await google.colab.kernel.invokeFunction(\n",
              "                'suggestCharts', [key], {});\n",
              "          } catch (error) {\n",
              "            console.error('Error during call to suggestCharts:', error);\n",
              "          }\n",
              "          quickchartButtonEl.classList.remove('colab-df-spinner');\n",
              "          quickchartButtonEl.classList.add('colab-df-quickchart-complete');\n",
              "        }\n",
              "        (() => {\n",
              "          let quickchartButtonEl =\n",
              "            document.querySelector('#df-8ba1a68f-27f1-4a08-9b90-941f1b23baec button');\n",
              "          quickchartButtonEl.style.display =\n",
              "            google.colab.kernel.accessAllowed ? 'block' : 'none';\n",
              "        })();\n",
              "      </script>\n",
              "    </div>\n",
              "\n",
              "    </div>\n",
              "  </div>\n"
            ],
            "application/vnd.google.colaboratory.intrinsic+json": {
              "type": "dataframe",
              "variable_name": "df",
              "summary": "{\n  \"name\": \"df\",\n  \"rows\": 12082,\n  \"fields\": [\n    {\n      \"column\": \"comments\",\n      \"properties\": {\n        \"dtype\": \"string\",\n        \"num_unique_values\": 12049,\n        \"samples\": [\n          \"\\u062f\\u06be\\u0627\\u0646\\u062f\\u0644\\u06cc \\u0627\\u0646\\u062f\\u06be\\u0627 \\u062f\\u06be\\u0646\\u062f \\u062f\\u06be\\u0627\\u0646\\u062f\\u0644\\u0627 \\u0628\\u0627\\u0631 \\u062f\\u06cc\\u06a9\\u06be\\u0646\\u06d2 \\u0631\\u06c1\\u0627 \\u067e\\u06cc\\u067e\\u0644\\u0632 \\u067e\\u0627\\u0631\\u0679\\u06cc \\u063a\\u0646\\u0688\\u0648\\u06ba \\u0639\\u0627\\u0645 \\u0628\\u062f\\u0645\\u0639\\u0627\\u0634\",\n          \"\\u0686\\u0648\\u062a\\u06cc\\u0627 \\u0642\\u0648\\u0645 \\u062c\\u0627\\u0624 \\u06af\\u0646\\u062f\\u0645 \\u0646\\u06a9\\u0627\\u0644\\u0648 \\u0631\\u0648\\u0646\\u06d2 \\u062f\\u06be\\u0648\\u0646\\u06d2 \\u0648\\u0642\\u062a \\u0646\\u06c1\\u06cc \\u062a\\u0645\\u06c1\\u0627\\u0631\\u06d2 \\u0628\\u0686\\u06d2 \\u0628\\u06be\\u0648\\u06a9\",\n          \"\\u0686\\u0648\\u062a\\u06cc\\u0627 \\u06a9\\u0648\\u0646 \\u062c\\u06af\\u06c1 \\u0686\\u0648\\u062a \\u0645\\u0646\\u06c1 \\u0631\\u06be\\u062a\\u0627\"\n        ],\n        \"semantic_type\": \"\",\n        \"description\": \"\"\n      }\n    },\n    {\n      \"column\": \"target\",\n      \"properties\": {\n        \"dtype\": \"number\",\n        \"std\": 0.49995218068349606,\n        \"min\": 0.0,\n        \"max\": 1.0,\n        \"num_unique_values\": 2,\n        \"samples\": [\n          0.0,\n          1.0\n        ],\n        \"semantic_type\": \"\",\n        \"description\": \"\"\n      }\n    },\n    {\n      \"column\": \"normalized\",\n      \"properties\": {\n        \"dtype\": \"string\",\n        \"num_unique_values\": 12049,\n        \"samples\": [\n          \"\\u062f\\u06be\\u0627\\u0646\\u062f\\u0644\\u06cc \\u0627\\u0646\\u062f\\u06be\\u0627 \\u062f\\u06be\\u0646\\u062f \\u062f\\u06be\\u0627\\u0646\\u062f\\u0644\\u0627 \\u0628\\u0627\\u0631 \\u062f\\u06cc\\u06a9\\u06be\\u0646\\u06d2 \\u0631\\u06c1\\u0627 \\u067e\\u06cc\\u067e\\u0644\\u0632 \\u067e\\u0627\\u0631\\u0679\\u06cc \\u063a\\u0646\\u0688\\u0648\\u06ba \\u0639\\u0627\\u0645 \\u0628\\u062f\\u0645\\u0639\\u0627\\u0634\",\n          \"\\u0686\\u0648\\u062a\\u06cc\\u0627 \\u0642\\u0648\\u0645 \\u062c\\u0627\\u0648 \\u06af\\u0646\\u062f\\u0645 \\u0646\\u06a9\\u0627\\u0644\\u0648 \\u0631\\u0648\\u0646\\u06d2 \\u062f\\u06be\\u0648\\u0646\\u06d2 \\u0648\\u0642\\u062a \\u0646\\u06c1\\u06cc \\u062a\\u0645\\u06c1\\u0627\\u0631\\u06d2 \\u0628\\u0686\\u06d2 \\u0628\\u06be\\u0648\\u06a9\"\n        ],\n        \"semantic_type\": \"\",\n        \"description\": \"\"\n      }\n    },\n    {\n      \"column\": \"no_stopwords\",\n      \"properties\": {\n        \"dtype\": \"string\",\n        \"num_unique_values\": 12043,\n        \"samples\": [\n          \"\\u0648\\u0648\\u0679 \\u067e\\u0691\\u06d2 \\u0631\\u0632\\u0644\\u0679 \\u0628\\u062c\\u06d2 \\u0627\\u0646\\u0627 \\u0686\\u0627\\u06c1\\u06cc\\u06d2 \\u0645\\u06af\\u0631 \\u0635\\u0631\\u0641 \\u0686\\u0646\\u062f \\u0646\\u062a\\u0627\\u06cc\\u062c \\u0645\\u0637\\u0644\\u0628 \\u06c1\\u0648\\u0646\\u06d2\",\n          \"\\u06af\\u0627\\u0646\\u0688\\u0648 \\u062a\\u06cc\\u0631\\u06cc \\u0627\\u0635\\u0644 \\u0627\\u0648\\u0642\\u0627\\u062a \\u0628\\u06be\\u06af\\u0648\\u0691\\u06d2 \\u0628\\u0627\\u06c1\\u0631 \\u0628\\u06cc\\u0679\\u06be \\u0635\\u0631\\u0641 \\u0637\\u0631\\u062d \\u0628\\u06be\\u0648\\u0646\\u06a9 \\u0632\\u06cc\\u0627\\u062f\\u06c1 \\u062a\\u06cc\\u0631\\u06cc \\u0627\\u0648\\u0642\\u0627\\u062a \\u0646\\u06c1\\u06cc\\u06ba \\u06a9\\u0633\\u06cc \\u06a9\\u06be\\u0633\\u0631\\u06d2 \\u06a9\\u0648\\u0644\\u0648\\u06ba \\u06cc\\u0648\\u0627\\u0646 \\u0648\\u0627\\u0644\\u06cc \\u0645\\u0627\\u06ba \\u062f\\u06cc\\u0627 \\u0628\\u0686\\u06cc\\u0627\"\n        ],\n        \"semantic_type\": \"\",\n        \"description\": \"\"\n      }\n    }\n  ]\n}"
            }
          },
          "metadata": {},
          "execution_count": 13
        }
      ]
    },
    {
      "cell_type": "code",
      "source": [
        "# Keep only final processed column + target\n",
        "final_df = df[[\"no_stopwords\", \"target\"]].rename(\n",
        "    columns={\"no_stopwords\": \"preprocessed_comment\"}\n",
        ")\n",
        "\n",
        "# Save ML-ready dataset\n",
        "final_df.to_csv(\"urdu_abusive_preprocessed.csv\", index=False, encoding=\"utf-8-sig\")\n",
        "\n",
        "print(\"✅ Final preprocessed dataset saved as urdu_cleaned.csv\")\n"
      ],
      "metadata": {
        "colab": {
          "base_uri": "https://localhost:8080/"
        },
        "id": "PiZTfochtnAg",
        "outputId": "b3e2ed74-dd3e-4a75-f11c-34eac2631922"
      },
      "execution_count": null,
      "outputs": [
        {
          "output_type": "stream",
          "name": "stdout",
          "text": [
            "✅ Final preprocessed dataset saved as urdu_cleaned.csv\n"
          ]
        }
      ]
    },
    {
      "cell_type": "code",
      "source": [
        "print(\"Total rows:\", len(final_df))\n",
        "print(\"Abusive count:\", final_df['target'].sum())\n",
        "print(\"Non-Abusive count:\", (final_df['target']==0).sum())\n",
        "final_df['text_length'] = final_df['preprocessed_comment'].apply(lambda x: len(x.split()))\n",
        "print(final_df['text_length'].describe())\n"
      ],
      "metadata": {
        "colab": {
          "base_uri": "https://localhost:8080/"
        },
        "id": "DgZK8a39whfw",
        "outputId": "890cbf03-9f98-42fb-83da-b262a7448e59"
      },
      "execution_count": null,
      "outputs": [
        {
          "output_type": "stream",
          "name": "stdout",
          "text": [
            "Total rows: 12082\n",
            "Abusive count: 6141.0\n",
            "Non-Abusive count: 5941\n",
            "count    12082.000000\n",
            "mean        13.053302\n",
            "std          7.180940\n",
            "min          1.000000\n",
            "25%          8.000000\n",
            "50%         12.000000\n",
            "75%         16.000000\n",
            "max         46.000000\n",
            "Name: text_length, dtype: float64\n"
          ]
        }
      ]
    },
    {
      "cell_type": "markdown",
      "source": [
        "###**4. Feature Extraction**\n",
        "After preprocessing, our text data is clean but still in raw string format.\n",
        "Machine learning models cannot directly work with text, so we need to convert\n",
        "it into numerical features. This process is called **Feature Extraction**.\n",
        "\n",
        "Common techniques include:\n",
        "- Bag of Words (BoW)\n",
        "- TF-IDF (Term Frequency – Inverse Document Frequency)\n",
        "- N-Grams (unigram, bigram, trigram)\n",
        "- Word Embeddings (Word2Vec, FastText, GloVe)\n",
        "\n",
        "In this project, we will explore these methods and select the most suitable one for our dataset."
      ],
      "metadata": {
        "id": "SMQC46IQx6O7"
      }
    },
    {
      "cell_type": "markdown",
      "source": [
        "**Dataset Characteristics**\n",
        "\n",
        "Before choosing a method, let's review our dataset:\n",
        "\n",
        "- Total rows: 12,082\n",
        "- Balanced classes: Abusive = 6141, Non-Abusive = 5941\n",
        "- Average text length: 13 words (short comments)\n",
        "\n",
        "Since comments are short and the dataset is medium-sized, a method that works\n",
        "well with short texts and highlights discriminative words/phrases will be more effective."
      ],
      "metadata": {
        "id": "FmN9y1OIyOJj"
      }
    },
    {
      "cell_type": "markdown",
      "source": [
        "**Baseline: Bag of Words (BoW)**"
      ],
      "metadata": {
        "id": "4vwSWhpIyjmR"
      }
    },
    {
      "cell_type": "code",
      "source": [
        "from sklearn.feature_extraction.text import CountVectorizer\n",
        "\n",
        "bow_vectorizer = CountVectorizer()\n",
        "X_bow = bow_vectorizer.fit_transform(final_df['preprocessed_comment'])\n",
        "\n",
        "print(\"BoW Shape:\", X_bow.shape)"
      ],
      "metadata": {
        "colab": {
          "base_uri": "https://localhost:8080/"
        },
        "id": "zZyZXZRfyUaA",
        "outputId": "ed364a6d-2d8f-4608-8871-fef873051d3c"
      },
      "execution_count": null,
      "outputs": [
        {
          "output_type": "stream",
          "name": "stdout",
          "text": [
            "BoW Shape: (12082, 16842)\n"
          ]
        }
      ]
    },
    {
      "cell_type": "markdown",
      "source": [
        "BoW represents each comment by simple word counts.\n",
        "However, it treats all words equally and ignores context.\n",
        "We will use this as a baseline only."
      ],
      "metadata": {
        "id": "vO24h6Zhyt22"
      }
    },
    {
      "cell_type": "markdown",
      "source": [
        "**Chosen Method: TF-IDF with N-Grams**"
      ],
      "metadata": {
        "id": "WXN4HkuvyvIn"
      }
    },
    {
      "cell_type": "code",
      "source": [
        "from sklearn.feature_extraction.text import TfidfVectorizer\n",
        "\n",
        "# Use unigrams and bigrams\n",
        "tfidf_vectorizer = TfidfVectorizer(ngram_range=(1,2), min_df=2, max_df=0.9)\n",
        "X_tfidf = tfidf_vectorizer.fit_transform(final_df['preprocessed_comment'])\n",
        "\n",
        "print(\"TF-IDF Shape:\", X_tfidf.shape)"
      ],
      "metadata": {
        "colab": {
          "base_uri": "https://localhost:8080/"
        },
        "id": "95jkTo_nyzxq",
        "outputId": "72ae1e06-1c27-4182-f91d-ea47d59e22fc"
      },
      "execution_count": null,
      "outputs": [
        {
          "output_type": "stream",
          "name": "stdout",
          "text": [
            "TF-IDF Shape: (12082, 24842)\n"
          ]
        }
      ]
    },
    {
      "cell_type": "markdown",
      "source": [
        "TF-IDF weighs words by importance, reducing the influence of very common terms.\n",
        "By adding bigrams, we capture short abusive phrases.\n",
        "This is more suitable for our dataset of short comments.\n"
      ],
      "metadata": {
        "id": "G6xRa78vy6yZ"
      }
    },
    {
      "cell_type": "markdown",
      "source": [
        "###**Justification**\n",
        "\n",
        "\n",
        "**Why TF-IDF with N-Grams?**\n",
        "\n",
        "- Dataset is medium-sized (12k rows) and text length is short (~13 words).\n",
        "- TF-IDF highlights informative abusive terms by reducing the weight of frequent neutral words.\n",
        "- Adding bigrams allows us to capture short abusive expressions, which are common in cyber abuse.\n",
        "- Bag of Words was tested but provides less meaningful representation.\n",
        "- Word embeddings (Word2Vec, FastText) are powerful but require larger data\n",
        "or pre-trained Urdu embeddings. These can be considered for future work,\n",
        "but for this project TF-IDF is an effective and interpretable choice."
      ],
      "metadata": {
        "id": "v1kPjA-ZzAV1"
      }
    },
    {
      "cell_type": "markdown",
      "source": [
        "###**5. Train & Test Data**\n",
        "\n",
        "To evaluate machine learning models fairly, we need to split the dataset into\n",
        "training and testing sets. The training set (75%) will be used to train the model,\n",
        "while the testing set (25%) will be used to evaluate its performance on unseen data.\n",
        "\n",
        "Randomized splitting is applied to avoid bias and ensure both abusive and\n",
        "non-abusive comments are well represented in both sets.\n"
      ],
      "metadata": {
        "id": "h7kpLsQE0BZ8"
      }
    },
    {
      "cell_type": "code",
      "source": [
        "from sklearn.model_selection import train_test_split\n",
        "\n",
        "# Features and target\n",
        "X = X_tfidf   # TF-IDF features from Step 4\n",
        "y = final_df['target']\n",
        "\n",
        "# 75% train, 25% test\n",
        "X_train, X_test, y_train, y_test = train_test_split(\n",
        "    X, y, test_size=0.25, random_state=42, stratify=y\n",
        ")\n",
        "\n",
        "print(\"Training set size:\", X_train.shape)\n",
        "print(\"Testing set size:\", X_test.shape)\n"
      ],
      "metadata": {
        "colab": {
          "base_uri": "https://localhost:8080/"
        },
        "id": "MpXS_gFc0L3x",
        "outputId": "9f8f7220-d213-48c6-fb2b-e8f744baf37b"
      },
      "execution_count": null,
      "outputs": [
        {
          "output_type": "stream",
          "name": "stdout",
          "text": [
            "Training set size: (9061, 24842)\n",
            "Testing set size: (3021, 24842)\n"
          ]
        }
      ]
    },
    {
      "cell_type": "markdown",
      "source": [
        "###**6. Machine Learning Techniques**\n",
        "\n",
        "Now that we have split our dataset into training and testing sets, the next step is to\n",
        "train machine learning models for cyber abuse detection. Text classification is\n",
        "commonly solved using algorithms such as Naïve Bayes, Logistic Regression, Support\n",
        "Vector Machines, Decision Trees, and ensemble methods like Random Forest.\n",
        "\n",
        "For this project, we will implement and compare **three different classifiers**:\n",
        "1. **Logistic Regression (Linear Model)**\n",
        "2. **Multinomial Naïve Bayes (Probabilistic Model)**\n",
        "3. **Support Vector Machine (Margin-based Classifier)**\n",
        "\n",
        "These algorithms were chosen because they are well-suited for text data, have\n",
        "different algorithmic foundations, and allow us to evaluate performance from\n",
        "different perspectives."
      ],
      "metadata": {
        "id": "1XBYYGIc2f8o"
      }
    },
    {
      "cell_type": "markdown",
      "source": [
        "**Model Explanations**\n",
        "\n",
        "### 1. Logistic Regression\n",
        "- **How it works:** Learns weights for each feature (word/phrase) to predict probability of a class.  \n",
        "- **Pros:** Simple, fast, works well with high-dimensional sparse data (like TF-IDF).  \n",
        "- **Cons:** Assumes linear decision boundary.  \n",
        "- **Why here:** Strong baseline for text classification.  \n",
        "\n",
        "### 2. Multinomial Naïve Bayes\n",
        "- **How it works:** Uses Bayes’ theorem, assuming features (words) are conditionally independent.  \n",
        "- **Pros:** Very fast, works well with word frequency features (BoW/TF-IDF).  \n",
        "- **Cons:** Assumes independence (not always realistic).  \n",
        "- **Why here:** Classic algorithm for spam detection, sentiment analysis, and abuse detection.  \n",
        "\n",
        "### 3. Support Vector Machine (SVM)\n",
        "- **How it works:** Finds a hyperplane that separates classes with maximum margin.  \n",
        "- **Pros:** Performs very well on high-dimensional data, robust to overfitting.  \n",
        "- **Cons:** Can be slow with large datasets.  \n",
        "- **Why here:** Known to achieve strong performance in text classification tasks.  \n"
      ],
      "metadata": {
        "id": "UMxvNcwz2rW4"
      }
    },
    {
      "cell_type": "markdown",
      "source": [
        "\n",
        "**Implementation Code**\n",
        "-----------------------------\n",
        "-----------------------------\n",
        "-----------------------------"
      ],
      "metadata": {
        "id": "tsFbDluV3Glr"
      }
    },
    {
      "cell_type": "code",
      "source": [
        "from sklearn.linear_model import LogisticRegression\n",
        "from sklearn.naive_bayes import MultinomialNB\n",
        "from sklearn.svm import LinearSVC\n",
        "from sklearn.metrics import classification_report, accuracy_score\n",
        "\n",
        "# Define models\n",
        "models = {\n",
        "    \"Logistic Regression\": LogisticRegression(max_iter=1000, random_state=42),\n",
        "    \"Multinomial Naive Bayes\": MultinomialNB(),\n",
        "    \"Support Vector Machine\": LinearSVC(random_state=42)\n",
        "}\n",
        "\n",
        "# Train and evaluate\n",
        "for name, model in models.items():\n",
        "    print(f\"\\n===== {name} =====\")\n",
        "    model.fit(X_train, y_train)\n",
        "    y_pred = model.predict(X_test)\n",
        "\n",
        "    print(\"Accuracy:\", accuracy_score(y_test, y_pred))\n",
        "    print(classification_report(y_test, y_pred, target_names=[\"Non-Abusive\", \"Abusive\"]))\n"
      ],
      "metadata": {
        "colab": {
          "base_uri": "https://localhost:8080/"
        },
        "id": "5RJUcOQ73UxS",
        "outputId": "d33add16-469e-45ca-8f21-8c9bd5be8f3a"
      },
      "execution_count": null,
      "outputs": [
        {
          "output_type": "stream",
          "name": "stdout",
          "text": [
            "\n",
            "===== Logistic Regression =====\n",
            "Accuracy: 0.9553128103277061\n",
            "              precision    recall  f1-score   support\n",
            "\n",
            " Non-Abusive       0.94      0.97      0.96      1485\n",
            "     Abusive       0.97      0.94      0.96      1536\n",
            "\n",
            "    accuracy                           0.96      3021\n",
            "   macro avg       0.96      0.96      0.96      3021\n",
            "weighted avg       0.96      0.96      0.96      3021\n",
            "\n",
            "\n",
            "===== Multinomial Naive Bayes =====\n",
            "Accuracy: 0.9003641178417743\n",
            "              precision    recall  f1-score   support\n",
            "\n",
            " Non-Abusive       0.96      0.83      0.89      1485\n",
            "     Abusive       0.85      0.97      0.91      1536\n",
            "\n",
            "    accuracy                           0.90      3021\n",
            "   macro avg       0.91      0.90      0.90      3021\n",
            "weighted avg       0.91      0.90      0.90      3021\n",
            "\n",
            "\n",
            "===== Support Vector Machine =====\n",
            "Accuracy: 0.9649122807017544\n",
            "              precision    recall  f1-score   support\n",
            "\n",
            " Non-Abusive       0.95      0.98      0.96      1485\n",
            "     Abusive       0.98      0.95      0.96      1536\n",
            "\n",
            "    accuracy                           0.96      3021\n",
            "   macro avg       0.97      0.97      0.96      3021\n",
            "weighted avg       0.97      0.96      0.96      3021\n",
            "\n"
          ]
        }
      ]
    },
    {
      "cell_type": "markdown",
      "source": [
        "**Justification**\n",
        "-------------------\n",
        "------------------\n",
        "------------------\n",
        "**Why these three models?**\n",
        "\n",
        "- Logistic Regression is a strong baseline for text classification with sparse TF-IDF features.  \n",
        "- Multinomial Naïve Bayes is widely used in spam filtering and abuse detection because it is fast and effective on frequency-based text data.  \n",
        "- Support Vector Machine is a powerful margin-based classifier, known to perform well on high-dimensional feature spaces such as TF-IDF.  \n",
        "\n",
        "By comparing these three models, we can evaluate different algorithmic approaches\n",
        "(linear, probabilistic, and margin-based) and select the most effective technique for\n",
        "our cyber abuse detection task.\n"
      ],
      "metadata": {
        "id": "khTeo_DN3fxk"
      }
    },
    {
      "cell_type": "markdown",
      "source": [
        "###**7. Confusion Matrix**\n",
        "\n",
        "A confusion matrix provides detailed insight into model predictions:\n",
        "- **True Positives (TP):** Abusive comments correctly classified as abusive.  \n",
        "- **True Negatives (TN):** Non-abusive comments correctly classified as non-abusive.  \n",
        "- **False Positives (FP):** Non-abusive comments incorrectly classified as abusive.  \n",
        "- **False Negatives (FN):** Abusive comments incorrectly classified as non-abusive.  \n"
      ],
      "metadata": {
        "id": "np1oplLOAbkL"
      }
    },
    {
      "cell_type": "code",
      "source": [
        "from sklearn.metrics import confusion_matrix, ConfusionMatrixDisplay\n",
        "import matplotlib.pyplot as plt\n",
        "\n",
        "# Generate and display confusion matrix for each model\n",
        "for name, model in models.items():\n",
        "    y_pred = model.predict(X_test)\n",
        "    cm = confusion_matrix(y_test, y_pred)\n",
        "\n",
        "    print(f\"\\n===== {name} Confusion Matrix =====\")\n",
        "    print(cm)  # TN, FP, FN, TP\n",
        "\n",
        "    disp = ConfusionMatrixDisplay(confusion_matrix=cm, display_labels=[\"Non-Abusive\", \"Abusive\"])\n",
        "    disp.plot(cmap=plt.cm.Blues, values_format='d')\n",
        "    plt.title(f\"Confusion Matrix - {name}\")\n",
        "    plt.show()\n"
      ],
      "metadata": {
        "colab": {
          "base_uri": "https://localhost:8080/",
          "height": 1000
        },
        "id": "RtTxIYCbAnBm",
        "outputId": "fcabf4b4-f4ad-440d-9b65-e7b37158dec0"
      },
      "execution_count": 22,
      "outputs": [
        {
          "output_type": "stream",
          "name": "stdout",
          "text": [
            "\n",
            "===== Logistic Regression Confusion Matrix =====\n",
            "[[1445   40]\n",
            " [  95 1441]]\n"
          ]
        },
        {
          "output_type": "display_data",
          "data": {
            "text/plain": [
              "<Figure size 640x480 with 2 Axes>"
            ],
            "image/png": "[encoded data removed]"
          },
          "metadata": {}
        },
        {
          "output_type": "stream",
          "name": "stdout",
          "text": [
            "\n",
            "===== Multinomial Naive Bayes Confusion Matrix =====\n",
            "[[1231  254]\n",
            " [  47 1489]]\n"
          ]
        },
        {
          "output_type": "display_data",
          "data": {
            "text/plain": [
              "<Figure size 640x480 with 2 Axes>"
            ],
            "image/png": "[encoded data removed]"
          },
          "metadata": {}
        },
        {
          "output_type": "stream",
          "name": "stdout",
          "text": [
            "\n",
            "===== Support Vector Machine Confusion Matrix =====\n",
            "[[1455   30]\n",
            " [  76 1460]]\n"
          ]
        },
        {
          "output_type": "display_data",
          "data": {
            "text/plain": [
              "<Figure size 640x480 with 2 Axes>"
            ],
            "image/png": "[encoded data removed]"
          },
          "metadata": {}
        }
      ]
    },
    {
      "cell_type": "markdown",
      "source": [
        "### Observations from Confusion Matrices\n",
        "\n",
        "- **Logistic Regression**  \n",
        "  - **TN = 1445, FP = 40, FN = 95, TP = 1441**  \n",
        "  - Very few False Positives (40) and False Negatives (95).  \n",
        "  - Balanced performance between abusive and non-abusive detection.  \n",
        "\n",
        "- **Multinomial Naïve Bayes**  \n",
        "  - **TN = 1231, FP = 254, FN = 47, TP = 1489**  \n",
        "  - Much higher False Positives (254) → many non-abusive comments flagged incorrectly.  \n",
        "  - Very low False Negatives (47) → catches almost all abusive cases (strong recall).  \n",
        "\n",
        "- **Support Vector Machine (SVM)**  \n",
        "  - **TN = 1455, FP = 30, FN = 76, TP = 1460**  \n",
        "  - Lowest overall misclassifications.  \n",
        "  - Very few False Positives (30) and False Negatives (76).  \n",
        "  - Strongest balance, making it the most effective model in confusion matrix comparison.  \n"
      ],
      "metadata": {
        "id": "0pj3Dp-MBnV4"
      }
    },
    {
      "cell_type": "markdown",
      "source": [
        "### Final Conclusion\n",
        "Among the three models:  \n",
        "- **SVM performed best overall**, achieving the lowest misclassifications and the strongest balance between precision and recall.  \n",
        "- **Logistic Regression** also performed strongly and serves as a reliable baseline model.  \n",
        "- **Naïve Bayes** achieved the highest recall for abusive comments, making it valuable in scenarios where detecting all abusive cases is more important than reducing false positives.  \n",
        "\n",
        "---> Overall, **SVM is the most effective model for cyber abuse detection on this dataset.**\n"
      ],
      "metadata": {
        "id": "WwpX0WUSB8fQ"
      }
    },
    {
      "cell_type": "markdown",
      "source": [
        "###**8. Accuracy & Metrics Evaluation**\n",
        "\n"
      ],
      "metadata": {
        "id": "oizaxh2GCTVT"
      }
    },
    {
      "cell_type": "code",
      "source": [
        "from sklearn.metrics import accuracy_score, precision_score, recall_score, f1_score\n",
        "import matplotlib.pyplot as plt\n",
        "\n",
        "# Train models and store evaluation results\n",
        "results = {}\n",
        "\n",
        "for name, model in models.items():\n",
        "    model.fit(X_train, y_train)\n",
        "    y_pred = model.predict(X_test)\n",
        "\n",
        "    results[name] = {\n",
        "        \"Accuracy\": accuracy_score(y_test, y_pred),\n",
        "        \"Precision\": precision_score(y_test, y_pred, average=\"weighted\"),\n",
        "        \"Recall\": recall_score(y_test, y_pred, average=\"weighted\"),\n",
        "        \"F1-Score\": f1_score(y_test, y_pred, average=\"weighted\")\n",
        "    }\n",
        "\n",
        "# Convert results to a nice format\n",
        "import pandas as pd\n",
        "results_df = pd.DataFrame(results).T\n",
        "print(results_df)\n",
        "\n",
        "# Plot accuracy comparison\n",
        "plt.figure(figsize=(7,5))\n",
        "plt.bar(results_df.index, results_df[\"Accuracy\"], color=[\"skyblue\", \"lightgreen\", \"salmon\"])\n",
        "plt.title(\"Accuracy Comparison of Models\")\n",
        "plt.ylabel(\"Accuracy\")\n",
        "plt.ylim(0,1)\n",
        "plt.show()\n"
      ],
      "metadata": {
        "colab": {
          "base_uri": "https://localhost:8080/",
          "height": 537
        },
        "id": "Uj8LPxYgCWx9",
        "outputId": "6e976e54-c78c-4236-83d9-8b6cdc406cd9"
      },
      "execution_count": 24,
      "outputs": [
        {
          "output_type": "stream",
          "name": "stdout",
          "text": [
            "                         Accuracy  Precision    Recall  F1-Score\n",
            "Logistic Regression      0.955313   0.955944  0.955313  0.955312\n",
            "Multinomial Naive Bayes  0.900364   0.907829  0.900364  0.899777\n",
            "Support Vector Machine   0.964912   0.965362  0.964912  0.964913\n"
          ]
        },
        {
          "output_type": "display_data",
          "data": {
            "text/plain": [
              "<Figure size 700x500 with 1 Axes>"
            ],
            "image/png": "[encoded data removed]"
          },
          "metadata": {}
        }
      ]
    },
    {
      "cell_type": "markdown",
      "source": [
        "## Final Conclusion  \n",
        "\n",
        "Based on the evaluation metrics (Accuracy, Precision, Recall, and F1-Score), the performance of the three models is summarized below:  \n",
        "\n",
        "| Model                     | Accuracy | Precision | Recall | F1-Score |\n",
        "|----------------------------|----------|-----------|--------|----------|\n",
        "| Logistic Regression        | 0.9553   | 0.9559    | 0.9553 | 0.9553   |\n",
        "| Multinomial Naïve Bayes    | 0.9004   | 0.9078    | 0.9004 | 0.8998   |\n",
        "| Support Vector Machine     | 0.9649   | 0.9654    | 0.9649 | 0.9649   |\n",
        "\n",
        "---\n",
        "\n",
        "### Key Takeaways  \n",
        "\n",
        "- **Support Vector Machine (SVM)**  \n",
        "  - Achieved the highest scores across all metrics.  \n",
        "  - Accuracy: ~96.5%, Precision: ~96.5%, Recall: ~96.5%, F1-Score: ~96.5%.  \n",
        "  - Best suited for this cyber abuse detection task.  \n",
        "\n",
        "- **Logistic Regression**  \n",
        "  - Strong baseline with ~95.5% accuracy.  \n",
        "  - Reliable balance between precision and recall.  \n",
        "\n",
        "- **Multinomial Naïve Bayes**  \n",
        "  - Lowest performance with ~90% accuracy.  \n",
        "  - Still useful due to speed and simplicity, but prone to more misclassifications.  \n",
        "\n",
        "---\n",
        "\n",
        "### Final Decision  \n",
        "\n",
        "Among the tested models, **Support Vector Machine (SVM)** is the most effective algorithm for cyber abuse detection in this dataset. Logistic Regression can serve as a strong alternative baseline, while Multinomial Naïve Bayes, though efficient, is less accurate and therefore less suitable for critical applications.  \n"
      ],
      "metadata": {
        "id": "fuc1n8juD4D0"
      }
    },
    {
      "cell_type": "code",
      "source": [
        "import joblib\n",
        "\n",
        "# Save the best model (SVM from your models dict)\n",
        "joblib.dump(models[\"Support Vector Machine\"], \"cyber_abuse_model.pkl\")\n",
        "\n",
        "# Save the TF-IDF vectorizer\n",
        "joblib.dump(tfidf_vectorizer, \"vectorizer.pkl\")\n",
        "\n",
        "print(\"✅ Model and vectorizer saved successfully!\")\n"
      ],
      "metadata": {
        "colab": {
          "base_uri": "https://localhost:8080/"
        },
        "id": "9IZffDGjGJ5k",
        "outputId": "509a31fb-744d-49b5-87ff-473b25b71f0c"
      },
      "execution_count": 27,
      "outputs": [
        {
          "output_type": "stream",
          "name": "stdout",
          "text": [
            "✅ Model and vectorizer saved successfully!\n"
          ]
        }
      ]
    }
  ]
}